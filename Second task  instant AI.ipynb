{
 "cells": [
  {
   "cell_type": "markdown",
   "id": "a9032e5c",
   "metadata": {},
   "source": [
    "1-Write a Python program to find those numbers which are divisible by 7\n",
    "and multiple of 5, between 1500 and 2700 (both included)."
   ]
  },
  {
   "cell_type": "code",
   "execution_count": 30,
   "id": "39fcb08e",
   "metadata": {},
   "outputs": [
    {
     "name": "stdout",
     "output_type": "stream",
     "text": [
      "kinldy enter the number:350\n",
      "350\n"
     ]
    }
   ],
   "source": [
    "n=int(input(\"kinldy enter the number:\"))\n",
    "def value(n):\n",
    "    if n % 7 == 0 and 1500<n*5<2700:\n",
    "        return (n)\n",
    "    else:\n",
    "        return ('not valid number')\n",
    "print(value(n))"
   ]
  },
  {
   "cell_type": "markdown",
   "id": "3cb431b8",
   "metadata": {},
   "source": [
    "2-Write a Python program to convert temperatures to and from celsius,\n",
    "fahrenheit.\n",
    "[ Formula : c/5 = f-32/9 [ where c = temperature in celsius and f = temperature in\n",
    "fahrenheit ]\n"
   ]
  },
  {
   "cell_type": "code",
   "execution_count": 29,
   "id": "d00a9d1a",
   "metadata": {},
   "outputs": [
    {
     "name": "stdout",
     "output_type": "stream",
     "text": [
      "enter the current  tmperature in celsius degrees:0\n",
      "the temperature in F=: 32.0\n"
     ]
    }
   ],
   "source": [
    "Temperature=int(input('enter the current  tmperature in celsius degrees:' ))\n",
    "print('the temperature in F=:',Temperature*1.8+32)"
   ]
  },
  {
   "cell_type": "code",
   "execution_count": 33,
   "id": "9ea0dcaa",
   "metadata": {},
   "outputs": [
    {
     "name": "stdout",
     "output_type": "stream",
     "text": [
      "\n",
      "* \n",
      "* * \n",
      "* * * \n",
      "* * * * \n",
      "* * * * * \n",
      "* * * * \n",
      "* * * \n",
      "* * \n",
      "* \n"
     ]
    }
   ],
   "source": [
    "n=5;\n",
    "for i in range(n):\n",
    "    for j in range(i):\n",
    "        print ('* ', end=\"\")\n",
    "    print('')\n",
    "\n",
    "for i in range(n,0,-1):\n",
    "    for j in range(i):\n",
    "        print('* ', end=\"\")\n",
    "    print('')"
   ]
  },
  {
   "cell_type": "markdown",
   "id": "1db4e1a6",
   "metadata": {},
   "source": [
    "4-Write a Python program that accepts a word from the user and reverse\n",
    "it.\n"
   ]
  },
  {
   "cell_type": "code",
   "execution_count": 39,
   "id": "68513c6e",
   "metadata": {},
   "outputs": [
    {
     "name": "stdout",
     "output_type": "stream",
     "text": [
      "enter your word:good\n",
      "doog\n"
     ]
    }
   ],
   "source": [
    "word=input(\"enter your word:\")\n",
    "wordlength=len(word) #find the length of the word\n",
    "reversedword=word[wordlength::-1] #creat new list with the same the same numbers of letters but starting from the  last letter of the  word\n",
    "print(reversedword) #the reversed  word"
   ]
  },
  {
   "cell_type": "markdown",
   "id": "1bb01f91",
   "metadata": {},
   "source": [
    "5-Write a Python function to find the Max of three numbers."
   ]
  },
  {
   "cell_type": "code",
   "execution_count": 47,
   "id": "afb8bb05",
   "metadata": {},
   "outputs": [
    {
     "name": "stdout",
     "output_type": "stream",
     "text": [
      "enter three numbers:4\n",
      "enter three numbers:5\n",
      "enter three numbers:6\n",
      "6\n"
     ]
    }
   ],
   "source": [
    "test=[]\n",
    "for i in range(0,3):\n",
    "    number=int(input('enter three numbers:'))\n",
    "    test.append(number)\n",
    "print(max(test))"
   ]
  },
  {
   "cell_type": "markdown",
   "id": "da661e92",
   "metadata": {},
   "source": [
    "6-Write a Python function to sum all the numbers in a list."
   ]
  },
  {
   "cell_type": "code",
   "execution_count": 49,
   "id": "c785a14b",
   "metadata": {},
   "outputs": [
    {
     "data": {
      "text/plain": [
       "23"
      ]
     },
     "execution_count": 49,
     "metadata": {},
     "output_type": "execute_result"
    }
   ],
   "source": [
    "lst=[3,4,5,1,10]\n",
    "sum(lst)"
   ]
  },
  {
   "cell_type": "markdown",
   "id": "783df579",
   "metadata": {},
   "source": [
    "7-Write a Python program that prints all the numbers from 0 to 6 except 3\n",
    "and 6.\n",
    "Note : Use 'continue' statement."
   ]
  },
  {
   "cell_type": "code",
   "execution_count": 62,
   "id": "c1a31303",
   "metadata": {},
   "outputs": [
    {
     "name": "stdout",
     "output_type": "stream",
     "text": [
      "Current variable value : 5\n",
      "Current variable value : 4\n",
      "Current variable value : 2\n",
      "Current variable value : 1\n",
      "Current variable value : 0\n"
     ]
    }
   ],
   "source": [
    "test=6\n",
    "while test > 0:              \n",
    "   test = test-1\n",
    "   if test == 3:\n",
    "      continue\n",
    "   print(('Current variable value :'), test)"
   ]
  },
  {
   "cell_type": "markdown",
   "id": "4071103c",
   "metadata": {},
   "source": [
    "8-Write a Python function to calculate the factorial of a number (a nonnegative integer). The function accepts the number as an argument."
   ]
  },
  {
   "cell_type": "code",
   "execution_count": 16,
   "id": "71452a72",
   "metadata": {},
   "outputs": [
    {
     "name": "stdout",
     "output_type": "stream",
     "text": [
      "enter the integer:7\n",
      "5040\n"
     ]
    }
   ],
   "source": [
    "n=int(input(\"enter the integer:\"))\n",
    "def factorial(n):\n",
    "    if  n<0:\n",
    "        return (\"no factorial for negative number\")\n",
    "    elif n == 0:\n",
    "        return 1\n",
    "    else:\n",
    "        return (n*factorial(n-1))\n",
    "\n",
    "print (factorial(n))"
   ]
  },
  {
   "cell_type": "markdown",
   "id": "b94e8d12",
   "metadata": {},
   "source": [
    "9-Write a Python function that takes a list and returns a new list with\n",
    "unique elements of the first list."
   ]
  },
  {
   "cell_type": "code",
   "execution_count": 21,
   "id": "3945e9e6",
   "metadata": {},
   "outputs": [
    {
     "name": "stdout",
     "output_type": "stream",
     "text": [
      "[1, 3, 4, 5, 33, 78, 9]\n"
     ]
    }
   ],
   "source": [
    "uniqlst=[] \n",
    "lst1=[1,3,4,5,4,33,78,9,3,33]\n",
    "for x in  lst1:\n",
    "    if x not in uniqlst:\n",
    "        uniqlst.append(x)\n",
    "print(uniqlst)"
   ]
  },
  {
   "cell_type": "markdown",
   "id": "549f1467",
   "metadata": {},
   "source": [
    "10-Write a Python program to create a lambda function that adds 15 to a\n",
    "given number passed in as an argument, also create a lambda function\n",
    "that multiplies argument x with argument y and print the result. Bonus"
   ]
  },
  {
   "cell_type": "code",
   "execution_count": 23,
   "id": "be6a8956",
   "metadata": {},
   "outputs": [
    {
     "name": "stdout",
     "output_type": "stream",
     "text": [
      "20\n",
      "12\n"
     ]
    }
   ],
   "source": [
    "summation = lambda a: a+15\n",
    "print(summation(5))\n",
    "multiplies=lambda a,b:a*b\n",
    "print(multiplies(3,4))"
   ]
  },
  {
   "cell_type": "code",
   "execution_count": null,
   "id": "ce284dc8",
   "metadata": {},
   "outputs": [],
   "source": []
  }
 ],
 "metadata": {
  "kernelspec": {
   "display_name": "Python 3 (ipykernel)",
   "language": "python",
   "name": "python3"
  },
  "language_info": {
   "codemirror_mode": {
    "name": "ipython",
    "version": 3
   },
   "file_extension": ".py",
   "mimetype": "text/x-python",
   "name": "python",
   "nbconvert_exporter": "python",
   "pygments_lexer": "ipython3",
   "version": "3.9.12"
  }
 },
 "nbformat": 4,
 "nbformat_minor": 5
}
