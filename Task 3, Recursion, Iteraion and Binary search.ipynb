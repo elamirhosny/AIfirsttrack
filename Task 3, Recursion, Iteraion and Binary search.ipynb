{
 "cells": [
  {
   "cell_type": "markdown",
   "id": "3fd11f98",
   "metadata": {},
   "source": [
    "Recurnce function"
   ]
  },
  {
   "cell_type": "code",
   "execution_count": 6,
   "id": "fa50cc64",
   "metadata": {},
   "outputs": [
    {
     "name": "stdout",
     "output_type": "stream",
     "text": [
      "6\n"
     ]
    }
   ],
   "source": [
    "def fact(n):\n",
    "#base function\n",
    "    if (n == 0):\n",
    "        return 1;\n",
    " \n",
    "    # recursion call\n",
    "    return n * fact(n - 1);\n",
    "print(fact(3))"
   ]
  },
  {
   "cell_type": "markdown",
   "id": "d6f79a33",
   "metadata": {},
   "source": [
    "Iteratian"
   ]
  },
  {
   "cell_type": "code",
   "execution_count": 7,
   "id": "7bb40f8c",
   "metadata": {},
   "outputs": [
    {
     "name": "stdout",
     "output_type": "stream",
     "text": [
      "6\n"
     ]
    }
   ],
   "source": [
    "def fac(f):\n",
    "    n= 1\n",
    "    while f >= 1:\n",
    "        n= n * f\n",
    "        f = f - 1\n",
    "    return n\n",
    "\n",
    "print(fac(3))"
   ]
  },
  {
   "cell_type": "markdown",
   "id": "fadce3da",
   "metadata": {},
   "source": [
    "Binary search"
   ]
  },
  {
   "cell_type": "code",
   "execution_count": 16,
   "id": "6a297f6e",
   "metadata": {},
   "outputs": [
    {
     "name": "stdout",
     "output_type": "stream",
     "text": [
      "5\n"
     ]
    }
   ],
   "source": [
    "def bi_Search(arr,reach):\n",
    "    l = len(arr) - 1\n",
    "    left,end = 0,l \n",
    "    mid = (left+end)//2 \n",
    "    while left <= end:\n",
    "        if arr[mid] == reach: \n",
    "            return mid \n",
    "        elif arr[mid] < reach:\n",
    "            left = mid + 1\n",
    "        else:\n",
    "            end = mid - 1\n",
    "        mid = (left+end)//2\n",
    "    return -1\n",
    "    \n",
    "a = [0,12,3,9,7,8]\n",
    "print(bi_Search(a,8))"
   ]
  },
  {
   "cell_type": "code",
   "execution_count": null,
   "id": "2bbc2271",
   "metadata": {},
   "outputs": [],
   "source": []
  }
 ],
 "metadata": {
  "kernelspec": {
   "display_name": "Python 3 (ipykernel)",
   "language": "python",
   "name": "python3"
  },
  "language_info": {
   "codemirror_mode": {
    "name": "ipython",
    "version": 3
   },
   "file_extension": ".py",
   "mimetype": "text/x-python",
   "name": "python",
   "nbconvert_exporter": "python",
   "pygments_lexer": "ipython3",
   "version": "3.9.12"
  }
 },
 "nbformat": 4,
 "nbformat_minor": 5
}
